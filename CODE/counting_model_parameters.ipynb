{
 "cells": [
  {
   "cell_type": "code",
   "execution_count": 1,
   "id": "6cd21926-7b14-40dc-884a-1b08e30dea7e",
   "metadata": {},
   "outputs": [],
   "source": [
    "import numpy as np"
   ]
  },
  {
   "cell_type": "code",
   "execution_count": 2,
   "id": "93f0ec44-08af-4047-8e49-b6682a23ad40",
   "metadata": {},
   "outputs": [
    {
     "name": "stdout",
     "output_type": "stream",
     "text": [
      "23851784\n"
     ]
    }
   ],
   "source": [
    "# for keras\n",
    "\n",
    "import tensorflow as tf\n",
    "\n",
    "model = tf.keras.applications.InceptionV3(\n",
    "    include_top=True,\n",
    "    weights=\"imagenet\",\n",
    "    pooling='avg',\n",
    "    classes=1000,\n",
    "    classifier_activation=\"softmax\"\n",
    ")\n",
    "\n",
    "num_params = model.count_params()\n",
    "print(num_params)"
   ]
  },
  {
   "cell_type": "code",
   "execution_count": 4,
   "id": "43a56a19-0dec-4b5c-ba40-7a940cbf21a3",
   "metadata": {
    "tags": []
   },
   "outputs": [
    {
     "name": "stdout",
     "output_type": "stream",
     "text": [
      "86859496\n"
     ]
    }
   ],
   "source": [
    "# for torch\n",
    "\n",
    "from transformers import AutoModelForImageClassification\n",
    "\n",
    "name = 'facebook/deit-base-patch16-384'\n",
    "model = AutoModelForImageClassification.from_pretrained(name)\n",
    "\n",
    "model_parameters = model.parameters()\n",
    "num_params = sum([np.prod(p.size()) for p in model_parameters])\n",
    "print(num_params)"
   ]
  },
  {
   "cell_type": "code",
   "execution_count": null,
   "id": "20a4a021-e05b-4d5c-b293-982e37161f7c",
   "metadata": {},
   "outputs": [],
   "source": []
  }
 ],
 "metadata": {
  "kernelspec": {
   "display_name": "Python 3 (ipykernel)",
   "language": "python",
   "name": "python3"
  },
  "language_info": {
   "codemirror_mode": {
    "name": "ipython",
    "version": 3
   },
   "file_extension": ".py",
   "mimetype": "text/x-python",
   "name": "python",
   "nbconvert_exporter": "python",
   "pygments_lexer": "ipython3",
   "version": "3.11.2"
  }
 },
 "nbformat": 4,
 "nbformat_minor": 5
}
