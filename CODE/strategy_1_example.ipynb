{
 "cells": [
  {
   "cell_type": "markdown",
   "metadata": {
    "tags": []
   },
   "source": [
    "# What is the doggest dog?\n",
    "\n",
    "This is a notebook that can be used to perform experiments connected to our paper.\n",
    "\n",
    "The aim of our method is to determine prototypes and anti-prototypes for a given basic-level category. Our methods aim to examine deep learning models from the perspective of the Prototype Theory.\n",
    "\n",
    "Method from the paper: Strategy 1 (based on within-category similarity)"
   ]
  },
  {
   "cell_type": "code",
   "execution_count": 1,
   "metadata": {},
   "outputs": [],
   "source": [
    "import tensorflow as tf\n",
    "import numpy as np\n",
    "import pandas as pd"
   ]
  },
  {
   "cell_type": "markdown",
   "metadata": {},
   "source": [
    "We use the following function to find the hyponyms for a given basic-level category - hypernym:"
   ]
  },
  {
   "cell_type": "code",
   "execution_count": 2,
   "metadata": {
    "tags": []
   },
   "outputs": [],
   "source": [
    "def find_hyponyms(hypernym_name):\n",
    "    \"\"\"\n",
    "    Function ca be used to obtain a list of indexes of the ImageNet classes \n",
    "    belonging to a given basic-level category (a hypernym).\n",
    "    ------\n",
    "    Pramaters: \n",
    "    \n",
    "    hypernym_name: a desired hypernym (e.g. \"domestic_cat\")\n",
    "    \"\"\"\n",
    "    from nltk.corpus import wordnet as wn\n",
    "    import nltk\n",
    "    from tensorflow.keras.applications.imagenet_utils import decode_predictions\n",
    "    from tensorflow.keras.utils import to_categorical\n",
    "    import numpy as np\n",
    "    \n",
    "    hyponyms = wn.synsets(hypernym_name)[0]\n",
    "    hyponyms = set([i for i in hyponyms.closure(lambda s:s.hyponyms())])\n",
    "    offsets = []\n",
    "    imagenet_classes = decode_predictions(to_categorical(np.expand_dims(np.array(range(1000)), axis=-1), num_classes=1000), top=1)\n",
    "\n",
    "    for c in imagenet_classes:\n",
    "        offsets.append(int(c[0][0].split('n')[1]))\n",
    "    \n",
    "    ids = []\n",
    "    for idx, o in enumerate(offsets):\n",
    "        isadoggo = wn.synset_from_pos_and_offset('n', int(o))\n",
    "        if isadoggo in hyponyms:\n",
    "            ids.append(idx)\n",
    "    return np.array(ids)"
   ]
  },
  {
   "cell_type": "code",
   "execution_count": 3,
   "metadata": {
    "tags": []
   },
   "outputs": [],
   "source": [
    "def return_prototype_antiprototype(model, hypernym_name, keras=True, levit=False):\n",
    "    \"\"\"\n",
    "    Function can be used to find prototypes and anti-prototypes for a given basic-level category \n",
    "    for a given deep learning model. \n",
    "    Parameters: \n",
    "    model: keras/torch model trained on ImageNet (with a standard order of classes that can be decoded with \n",
    "    tensorflow.keras.applications.imagenet_utils.decode_predictions\n",
    "    hypernym_name: string with a name of a basic-level category, e.g. \"domestic_cat\", \"dog\" etc.\n",
    "    high_level_category: in strategy 2, besides the hyponyms of our desired category, we also use\n",
    "    a contrasting category. A contrasting category is a complement of a set of some higher-level categories. \n",
    "    keras: flag whether we want to use a keras model (set True if yes - it is a default). \n",
    "    Set false in the case of using a torch model.\n",
    "    levit: set with keras=False in the case of using one of the LeViTs models.\n",
    "    \"\"\"\n",
    "    from tensorflow.keras.applications.imagenet_utils import decode_predictions\n",
    "    from sklearn.metrics.pairwise import cosine_similarity\n",
    "    from tensorflow.keras.utils import to_categorical\n",
    "\n",
    "    \n",
    "    hyponym_classes = find_hyponyms(hypernym_name=hypernym_name)    \n",
    "    print(f\"Members of the basic-level category (for hypernym = {hypernym_name}):\")\n",
    "    print(len(hyponym_classes))\n",
    "    \n",
    "    # Extraction of weights (we consider models from Keras Application (https://keras.io/api/applications/)\n",
    "    # and HuggingFace (https://huggingface.co/models) listed in the provided file Model_List.pdf\n",
    "    if keras:\n",
    "        hyponym_weights = np.mean(model.layers[-1].get_weights()[0][:, hyponym_classes], axis=1)\n",
    "        hyponyms = np.moveaxis(model.layers[-1].get_weights()[0][:, hyponym_classes], -1, 0)\n",
    "        hypernym_template = np.expand_dims(hyponym_weights, axis=0)\n",
    "    else:\n",
    "        if not levit:\n",
    "            hyponym_weights = np.mean(model.classifier.weight.detach().numpy()[hyponym_classes, :], axis=0)\n",
    "            hyponyms = model.classifier.weight.detach().numpy()[hyponym_classes, :]\n",
    "            hypernym_template = np.expand_dims(hyponym_weights, axis=0)\n",
    "        else:\n",
    "            # models from the LeViT family have slightly different model structure than the other models \n",
    "            # from HuggingFace\n",
    "            hyponym_weights = np.mean(model.classifier_distill.linear.weight.detach().numpy()[hyponym_classes, :], axis=0)\n",
    "            hyponyms = model.classifier_distill.linear.weight.detach().numpy()[hyponym_classes, :]\n",
    "            hypernym_template = np.expand_dims(hyponym_weights, axis=0)\n",
    "            \n",
    "    # Calculating the value of our similarity to find prototypes and anti-types\n",
    "\n",
    "    squeezed_cs = np.squeeze(cosine_similarity(hyponyms, hypernym_template))\n",
    "    \n",
    "    print(\"prototype\")\n",
    "    most_similar = decode_predictions(np.expand_dims(to_categorical(hyponym_classes[np.argmax(squeezed_cs)], num_classes=1000), axis=0), top=1)[0][0]\n",
    "    print(most_similar)\n",
    "    print(\"anti-prototype\")\n",
    "    least_similar = decode_predictions(np.expand_dims(to_categorical(hyponym_classes[np.argmin(squeezed_cs)], num_classes=1000), axis=0), top=1)[0][0]\n",
    "    print(least_similar)\n",
    "    print()\n",
    "    print(\"=========================================\")\n",
    "    print()\n",
    "    return most_similar[1], least_similar[1]"
   ]
  },
  {
   "cell_type": "markdown",
   "metadata": {},
   "source": [
    "Below one needs to set a WordNet node name - a desired basic-level category.\n",
    "\n",
    "**In our experiments, we use the following nodes:**\n",
    "\n",
    "Natural categories:\n",
    "\n",
    "* *domestic_cat*\n",
    "* *dog*\n",
    "* *bird*\n",
    "* *fish*\n",
    "* *mammal*\n",
    "\n",
    "Artificial category: *musical_instrument*"
   ]
  },
  {
   "cell_type": "code",
   "execution_count": 4,
   "metadata": {
    "tags": []
   },
   "outputs": [],
   "source": [
    "hypernym_name = \"domestic_cat\""
   ]
  },
  {
   "cell_type": "markdown",
   "metadata": {},
   "source": [
    "Example for keras:"
   ]
  },
  {
   "cell_type": "code",
   "execution_count": 5,
   "metadata": {
    "tags": []
   },
   "outputs": [
    {
     "name": "stdout",
     "output_type": "stream",
     "text": [
      "inception_v3\n",
      "Members of the basic-level category (for hypernym = domestic_cat):\n",
      "5\n",
      "prototype\n",
      "('n02123045', 'tabby', 1.0)\n",
      "anti-prototype\n",
      "('n02123597', 'Siamese_cat', 1.0)\n",
      "\n",
      "=========================================\n",
      "\n"
     ]
    }
   ],
   "source": [
    "# generating results for different CNNs (keras)\n",
    "\n",
    "# ---------------------------------------------------------------------\n",
    "model = tf.keras.applications.InceptionV3(\n",
    "    include_top=True,\n",
    "    weights=\"imagenet\",\n",
    "    pooling='avg',\n",
    "    classes=1000,\n",
    "    classifier_activation=\"softmax\"\n",
    ")\n",
    "\n",
    "print(model.name)\n",
    "most_similar, least_similar = return_prototype_antiprototype(model=model,  \n",
    "                                                        hypernym_name=hypernym_name, \n",
    "                                                        keras=True)"
   ]
  },
  {
   "cell_type": "markdown",
   "metadata": {},
   "source": [
    "Example for torch models:"
   ]
  },
  {
   "cell_type": "code",
   "execution_count": 7,
   "metadata": {},
   "outputs": [
    {
     "name": "stdout",
     "output_type": "stream",
     "text": [
      "microsoft/swinv2-tiny-patch4-window8-256\n",
      "Members of the basic-level category (for hypernym = domestic_cat):\n",
      "5\n",
      "prototype\n",
      "('n02123045', 'tabby', 1.0)\n",
      "anti-prototype\n",
      "('n02123597', 'Siamese_cat', 1.0)\n",
      "\n",
      "=========================================\n",
      "\n",
      "LevitForImageClassificationWithTeacher\n",
      "Members of the basic-level category (for hypernym = domestic_cat):\n",
      "5\n",
      "prototype\n",
      "('n02123045', 'tabby', 1.0)\n",
      "anti-prototype\n",
      "('n02123597', 'Siamese_cat', 1.0)\n",
      "\n",
      "=========================================\n",
      "\n"
     ]
    }
   ],
   "source": [
    "# generating results for different transformers (pytorch) - standard + example LeViT\n",
    "\n",
    "from transformers import AutoModelForImageClassification\n",
    "\n",
    "name = \"microsoft/swinv2-tiny-patch4-window8-256\"\n",
    "model = AutoModelForImageClassification.from_pretrained(name)\n",
    "\n",
    "print(name)\n",
    "most_similar, least_similar = return_prototype_antiprototype(model=model,  \n",
    "                                                        hypernym_name=hypernym_name, \n",
    "                                                        keras=False)\n",
    "\n",
    "# ---------------------------------------------------------------\n",
    "\n",
    "name = 'facebook/levit-384'\n",
    "model = AutoModelForImageClassification.from_pretrained(name)\n",
    "\n",
    "print(model.__class__.__name__)\n",
    "most_similar, least_similar = return_prototype_antiprototype(model=model,  \n",
    "                                                        hypernym_name=hypernym_name, \n",
    "                                                        keras=False, levit=True)"
   ]
  },
  {
   "cell_type": "code",
   "execution_count": null,
   "metadata": {},
   "outputs": [],
   "source": []
  }
 ],
 "metadata": {
  "kernelspec": {
   "display_name": "Python 3 (ipykernel)",
   "language": "python",
   "name": "python3"
  },
  "language_info": {
   "codemirror_mode": {
    "name": "ipython",
    "version": 3
   },
   "file_extension": ".py",
   "mimetype": "text/x-python",
   "name": "python",
   "nbconvert_exporter": "python",
   "pygments_lexer": "ipython3",
   "version": "3.11.2"
  }
 },
 "nbformat": 4,
 "nbformat_minor": 4
}
